{
 "cells": [
  {
   "cell_type": "code",
   "execution_count": 28,
   "id": "d33e312e",
   "metadata": {},
   "outputs": [],
   "source": [
    "import pandas as pd\n",
    "from sentence_transformers import SentenceTransformer\n",
    "import nltk\n",
    "import faiss\n",
    "from nltk.tokenize import sent_tokenize"
   ]
  },
  {
   "cell_type": "code",
   "execution_count": null,
   "id": "5c59df94",
   "metadata": {},
   "outputs": [
    {
     "data": {
      "text/html": [
       "<div>\n",
       "<style scoped>\n",
       "    .dataframe tbody tr th:only-of-type {\n",
       "        vertical-align: middle;\n",
       "    }\n",
       "\n",
       "    .dataframe tbody tr th {\n",
       "        vertical-align: top;\n",
       "    }\n",
       "\n",
       "    .dataframe thead th {\n",
       "        text-align: right;\n",
       "    }\n",
       "</style>\n",
       "<table border=\"1\" class=\"dataframe\">\n",
       "  <thead>\n",
       "    <tr style=\"text-align: right;\">\n",
       "      <th></th>\n",
       "      <th>answers</th>\n",
       "      <th>passages</th>\n",
       "      <th>query</th>\n",
       "      <th>query_id</th>\n",
       "      <th>query_type</th>\n",
       "      <th>wellFormedAnswers</th>\n",
       "    </tr>\n",
       "  </thead>\n",
       "  <tbody>\n",
       "    <tr>\n",
       "      <th>0</th>\n",
       "      <td>[Yes]</td>\n",
       "      <td>{'is_selected': [0, 0, 1, 0, 0, 0, 0], 'passag...</td>\n",
       "      <td>does human hair stop squirrels</td>\n",
       "      <td>0</td>\n",
       "      <td>description</td>\n",
       "      <td>[]</td>\n",
       "    </tr>\n",
       "    <tr>\n",
       "      <th>1</th>\n",
       "      <td>[Fossil fuels are basically the remains of ani...</td>\n",
       "      <td>{'is_selected': [0, 1, 0, 0, 0, 0, 0, 0, 0], '...</td>\n",
       "      <td>what are the benefits of fossil fuels</td>\n",
       "      <td>1</td>\n",
       "      <td>description</td>\n",
       "      <td>[]</td>\n",
       "    </tr>\n",
       "    <tr>\n",
       "      <th>2</th>\n",
       "      <td>[The apothem of a regular polygon is a line se...</td>\n",
       "      <td>{'is_selected': [0, 0, 0, 0, 0, 1, 0, 0, 0], '...</td>\n",
       "      <td>what is a apothem</td>\n",
       "      <td>2</td>\n",
       "      <td>description</td>\n",
       "      <td>[]</td>\n",
       "    </tr>\n",
       "    <tr>\n",
       "      <th>3</th>\n",
       "      <td>[$45 to $210. 2]</td>\n",
       "      <td>{'is_selected': [0, 0, 0, 0, 0, 1, 0, 0, 0], '...</td>\n",
       "      <td>average cost for custom canopy</td>\n",
       "      <td>3</td>\n",
       "      <td>numeric</td>\n",
       "      <td>[]</td>\n",
       "    </tr>\n",
       "    <tr>\n",
       "      <th>4</th>\n",
       "      <td>[It is the collection of physical elements tha...</td>\n",
       "      <td>{'is_selected': [0, 1, 0, 0, 0, 0, 0, 0, 0, 0]...</td>\n",
       "      <td>what is a hardware in a computer</td>\n",
       "      <td>4</td>\n",
       "      <td>description</td>\n",
       "      <td>[]</td>\n",
       "    </tr>\n",
       "  </tbody>\n",
       "</table>\n",
       "</div>"
      ],
      "text/plain": [
       "                                             answers  \\\n",
       "0                                              [Yes]   \n",
       "1  [Fossil fuels are basically the remains of ani...   \n",
       "2  [The apothem of a regular polygon is a line se...   \n",
       "3                                   [$45 to $210. 2]   \n",
       "4  [It is the collection of physical elements tha...   \n",
       "\n",
       "                                            passages  \\\n",
       "0  {'is_selected': [0, 0, 1, 0, 0, 0, 0], 'passag...   \n",
       "1  {'is_selected': [0, 1, 0, 0, 0, 0, 0, 0, 0], '...   \n",
       "2  {'is_selected': [0, 0, 0, 0, 0, 1, 0, 0, 0], '...   \n",
       "3  {'is_selected': [0, 0, 0, 0, 0, 1, 0, 0, 0], '...   \n",
       "4  {'is_selected': [0, 1, 0, 0, 0, 0, 0, 0, 0, 0]...   \n",
       "\n",
       "                                   query  query_id   query_type  \\\n",
       "0         does human hair stop squirrels         0  description   \n",
       "1  what are the benefits of fossil fuels         1  description   \n",
       "2                      what is a apothem         2  description   \n",
       "3         average cost for custom canopy         3      numeric   \n",
       "4       what is a hardware in a computer         4  description   \n",
       "\n",
       "  wellFormedAnswers  \n",
       "0                []  \n",
       "1                []  \n",
       "2                []  \n",
       "3                []  \n",
       "4                []  "
      ]
     },
     "execution_count": 6,
     "metadata": {},
     "output_type": "execute_result"
    }
   ],
   "source": [
    "data = pd.read_parquet(\"datasets/dataset.parquet\")\n",
    "data.head()"
   ]
  },
  {
   "cell_type": "code",
   "execution_count": 16,
   "id": "0e05e2ca",
   "metadata": {},
   "outputs": [
    {
     "data": {
      "text/plain": [
       "'Architecturally, the school has a Catholic character. Atop the Main Building\\'s gold dome is a golden statue of the Virgin Mary. Immediately in front of the Main Building and facing it, is a copper statue of Christ with arms upraised with the legend \"Venite Ad Me Omnes\". Next to the Main Building is the Basilica of the Sacred Heart. Immediately behind the basilica is the Grotto, a Marian place of prayer and reflection. It is a replica of the grotto at Lourdes, France where the Virgin Mary reputedly appeared to Saint Bernadette Soubirous in 1858. At the end of the main drive (and in a direct line that connects through 3 statues and the Gold Dome), is a simple, modern stone statue of Mary.'"
      ]
     },
     "execution_count": 16,
     "metadata": {},
     "output_type": "execute_result"
    }
   ],
   "source": [
    "data = pd.read_csv(\"datasets/SQuAD-v1.1.csv\")\n",
    "text = data[\"context\"][0]\n",
    "text"
   ]
  },
  {
   "cell_type": "code",
   "execution_count": 3,
   "id": "c3c6bd07",
   "metadata": {},
   "outputs": [],
   "source": [
    "model_name = 'Snowflake/snowflake-arctic-embed-l-v2.0'\n",
    "model = SentenceTransformer(model_name)"
   ]
  },
  {
   "cell_type": "code",
   "execution_count": null,
   "id": "552c159a",
   "metadata": {},
   "outputs": [
    {
     "name": "stderr",
     "output_type": "stream",
     "text": [
      "[nltk_data] Downloading package punkt to\n",
      "[nltk_data]     C:\\Users\\k4ty2\\AppData\\Roaming\\nltk_data...\n",
      "[nltk_data]   Package punkt is already up-to-date!\n"
     ]
    }
   ],
   "source": [
    "nltk.download('punkt')\n",
    "sentences = sent_tokenize(text)"
   ]
  },
  {
   "cell_type": "code",
   "execution_count": null,
   "id": "d454586f",
   "metadata": {},
   "outputs": [],
   "source": [
    "sentences_embeddings = model.encode(sentences, convert_to_numpy=True)"
   ]
  },
  {
   "cell_type": "code",
   "execution_count": null,
   "id": "62893afe",
   "metadata": {},
   "outputs": [],
   "source": [
    "dimension = sentences_embeddings.shape[1]\n",
    "index = faiss.IndexFlatL2(dimension)\n",
    "index.add(sentences_embeddings)"
   ]
  },
  {
   "cell_type": "code",
   "execution_count": 34,
   "id": "ae144b68",
   "metadata": {},
   "outputs": [],
   "source": [
    "query = \"statue of a girl\"\n",
    "query_embedding = model.encode([query], convert_to_numpy=True)\n"
   ]
  },
  {
   "cell_type": "code",
   "execution_count": 36,
   "id": "c5767317",
   "metadata": {},
   "outputs": [
    {
     "name": "stdout",
     "output_type": "stream",
     "text": [
      "text: Atop the Main Building's gold dome is a golden statue of the Virgin Mary., distance: 1.0584368705749512\n",
      "text: At the end of the main drive (and in a direct line that connects through 3 statues and the Gold Dome), is a simple, modern stone statue of Mary., distance: 1.1067466735839844\n"
     ]
    }
   ],
   "source": [
    "k = 2\n",
    "distances, indices = index.search(query_embedding, k)\n",
    "\n",
    "for i, idx in enumerate(indices[0]):\n",
    "    print(f\"text: {sentences[idx]}, distance: {distances[0][i]}\")"
   ]
  }
 ],
 "metadata": {
  "kernelspec": {
   "display_name": "myenv",
   "language": "python",
   "name": "python3"
  },
  "language_info": {
   "codemirror_mode": {
    "name": "ipython",
    "version": 3
   },
   "file_extension": ".py",
   "mimetype": "text/x-python",
   "name": "python",
   "nbconvert_exporter": "python",
   "pygments_lexer": "ipython3",
   "version": "3.11.9"
  }
 },
 "nbformat": 4,
 "nbformat_minor": 5
}
